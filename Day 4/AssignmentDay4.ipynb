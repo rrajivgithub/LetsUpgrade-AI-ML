{
 "cells": [
  {
   "cell_type": "code",
   "execution_count": 28,
   "metadata": {},
   "outputs": [
    {
     "name": "stdout",
     "output_type": "stream",
     "text": [
      "(9+6j)\n",
      "(3+2j)\n",
      "(10+24j)\n",
      "(2+0j)\n"
     ]
    }
   ],
   "source": [
    "# Question 1 : Research on whether addition, subtraction, multiplication, division, floor division and modulo \n",
    "#operations be performed on complex numbers. Based on your study, implement a Python program to demonstrate these \n",
    "# operations. \n",
    "a = 6+4j\n",
    "b = 3+2j\n",
    "print(a+b)\n",
    "print(a-b)\n",
    "print(a*b)\n",
    "print(a/b)\n",
    "#print(a//b) # floor of complex number cannot be performed\n",
    "#print(a%b)  # modulo operation cannot be performed"
   ]
  },
  {
   "cell_type": "markdown",
   "metadata": {},
   "source": [
    "# Question 2 : Research on range() functions and its parameters. Create a markdown cell and write in your own words (no copy-paste from google please) what you understand about it. Implement a small program of your choice on the same. \n",
    "\n",
    "Range() function is for using set of number with the specified starting range, end of the range and the consistant differnce between the numbers in the range\n",
    "\n"
   ]
  },
  {
   "cell_type": "code",
   "execution_count": 2,
   "metadata": {},
   "outputs": [
    {
     "name": "stdout",
     "output_type": "stream",
     "text": [
      "1.6666666666666667\n"
     ]
    }
   ],
   "source": [
    "# Question 3:  Consider two numbers. Perform their subtraction and if the result of subtraction is greater than\n",
    "#25, print their multiplication result else print their division result.\n",
    "\n",
    "x = 50\n",
    "y = 30\n",
    "z = 50 - 30\n",
    "if z>25:\n",
    "    print(x*y)\n",
    "else:\n",
    "    print(x/y)\n",
    "\n",
    "\n"
   ]
  },
  {
   "cell_type": "code",
   "execution_count": 17,
   "metadata": {},
   "outputs": [
    {
     "name": "stdout",
     "output_type": "stream",
     "text": [
      "-0.5857864376269049\n",
      "0.0\n",
      "0.4494897427831779\n",
      "0.8284271247461903\n",
      "1.1622776601683795\n"
     ]
    }
   ],
   "source": [
    "# Question 4: Consider a list of 10 elements of integer values. If the number in the \n",
    "# list is divisible by 2, print the result as \"square of that number minus 2\". \n",
    "\n",
    "import math as m\n",
    "Alist = [1,2,3,4,5,6,7,8,9,10,11]\n",
    "\n",
    "for i in Alist:\n",
    "    if(i % 2) == 0:\n",
    "        print ((m.sqrt(i)) -2 )\n",
    "\n",
    "\n",
    "\n"
   ]
  },
  {
   "cell_type": "code",
   "execution_count": 22,
   "metadata": {},
   "outputs": [
    {
     "name": "stdout",
     "output_type": "stream",
     "text": [
      "8\n",
      "10\n"
     ]
    }
   ],
   "source": [
    "# Question 5: Consider a list of 10 elements. Print all the elements in the \n",
    "# list which are greater than 7 when that number is divided 2.\n",
    "\n",
    "import math as m\n",
    "Alist = [1,2,3,4,5,6,7,8,9,10,11]\n",
    "\n",
    "for i in Alist:\n",
    "    if(i > 7):\n",
    "        if((i % 2) == 0):\n",
    "            print (i)\n"
   ]
  }
 ],
 "metadata": {
  "kernelspec": {
   "display_name": "Python 3",
   "language": "python",
   "name": "python3"
  },
  "language_info": {
   "codemirror_mode": {
    "name": "ipython",
    "version": 3
   },
   "file_extension": ".py",
   "mimetype": "text/x-python",
   "name": "python",
   "nbconvert_exporter": "python",
   "pygments_lexer": "ipython3",
   "version": "3.7.6"
  }
 },
 "nbformat": 4,
 "nbformat_minor": 4
}
