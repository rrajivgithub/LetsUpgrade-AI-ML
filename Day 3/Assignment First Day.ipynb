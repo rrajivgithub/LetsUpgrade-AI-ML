{
 "cells": [
  {
   "cell_type": "code",
   "execution_count": 12,
   "metadata": {},
   "outputs": [
    {
     "name": "stdout",
     "output_type": "stream",
     "text": [
      "Subtraction of two complex numbers are :  (-1-1j)\n"
     ]
    }
   ],
   "source": [
    "# Substract two complex numbers (2+3i) - (3+4i)\n",
    "# (2 + 3j) - (3 - 4j)\n",
    "# 2 -3 + 3j - 4j\n",
    "# -1 - 1j\n",
    "\n",
    "z1 = complex(2, 3) \n",
    "z2 = complex(3, 4) \n",
    "\n",
    "print( \"Subtraction of two complex numbers are : \", z1 - z2)\n"
   ]
  },
  {
   "cell_type": "code",
   "execution_count": 28,
   "metadata": {},
   "outputs": [
    {
     "name": "stdout",
     "output_type": "stream",
     "text": [
      "5.0\n"
     ]
    }
   ],
   "source": [
    "# To find 4 root of a number \n",
    "\n",
    "num = 625\n",
    "n4 = num ** (1/4)\n",
    "print(n4)"
   ]
  },
  {
   "cell_type": "code",
   "execution_count": 37,
   "metadata": {},
   "outputs": [
    {
     "name": "stdout",
     "output_type": "stream",
     "text": [
      "Value of x :  2  and y :  3\n",
      "After Swap,Value of x is 3\n",
      "After Swap,Value of y is 2\n"
     ]
    }
   ],
   "source": [
    "# swap two numbers in Python with the help of a temporary variable\n",
    "\n",
    "x = 2\n",
    "y = 3\n",
    "print(\"Value of x : \", x, \" and y : \", y) \n",
    "x1 = x # Temp Variable \n",
    "x = y\n",
    "y = x1\n",
    "\n",
    "print(\"After Swap,Value of x is\",x)\n",
    "print (\"After Swap,Value of y is\",y)\n"
   ]
  },
  {
   "cell_type": "code",
   "execution_count": 38,
   "metadata": {},
   "outputs": [
    {
     "name": "stdout",
     "output_type": "stream",
     "text": [
      "Value of x :  2  and y :  3\n",
      "After Swap,Value of x is 3\n",
      "After Swap,Value of y is 2\n"
     ]
    }
   ],
   "source": [
    "# swap two numbers in Python without the help of a temporary variable\n",
    "\n",
    "x = 2\n",
    "y = 3\n",
    "print(\"Value of x : \", x, \" and y : \", y) \n",
    "\n",
    "x, y = y, x \n",
    "\n",
    "print(\"After Swap,Value of x is\",x)\n",
    "print (\"After Swap,Value of y is\",y)"
   ]
  },
  {
   "cell_type": "code",
   "execution_count": 40,
   "metadata": {},
   "outputs": [
    {
     "name": "stdout",
     "output_type": "stream",
     "text": [
      "Normal body temperature in Fahrenheit 98.6\n",
      "Normal body temperature in Kelvin 310.15\n",
      "Normal body temperature in celsius 36.99999999999999\n"
     ]
    }
   ],
   "source": [
    "# convert fahrenheit to kelvin and celsius both\n",
    "# Fahrenheit to Kelvin: K = 5/9(F - 32) + 273.15\n",
    "# Fahrenheit to Celsius: C = (F - 32)/1.80\n",
    "\n",
    "FValue = 98.6 \n",
    "print(\"Normal body temperature in Fahrenheit\", FValue)\n",
    "KValue = 5/9*(FValue - 32) + 273.15\n",
    "print(\"Normal body temperature in Kelvin\", KValue)\n",
    "CValue = (FValue - 32)/1.80\n",
    "print(\"Normal body temperature in celsius\", CValue)"
   ]
  },
  {
   "cell_type": "code",
   "execution_count": 62,
   "metadata": {},
   "outputs": [
    {
     "name": "stdout",
     "output_type": "stream",
     "text": [
      "<class 'str'>\n",
      "<class 'int'>\n",
      "<class 'float'>\n",
      "<class 'complex'>\n",
      "<class 'list'>\n",
      "<class 'tuple'>\n",
      "<class 'range'>\n",
      "<class 'dict'>\n",
      "<class 'set'>\n",
      "<class 'frozenset'>\n",
      "<class 'bool'>\n",
      "<class 'bytes'>\n"
     ]
    }
   ],
   "source": [
    "# all the available data types in Python, \n",
    "# str \n",
    "Dtype = \"Python\"\n",
    "print(type(Dtype))\n",
    "\n",
    "# int\n",
    "Dtype = 1\n",
    "print(type(Dtype))\n",
    "# float\n",
    "Dtype = 1.0\n",
    "print(type(Dtype))\n",
    "\n",
    "# complex \n",
    "Dtype = 1 + 2j\n",
    "print(type(Dtype))\n",
    "# list\n",
    "Dtype = [\"1\",\"3\",\"6\",\"8\"]\n",
    "print(type(Dtype))\n",
    "# tuple\n",
    "Dtype = (\"1\",\"3\",\"6\",\"8\")\n",
    "print(type(Dtype))\n",
    "\n",
    "# range \n",
    "Dtype = range(9,18,3)\n",
    "print(type(Dtype))\n",
    "# dict \n",
    "Dtype = {\n",
    "  \"Name\": \"Vaibhav\",\n",
    "  \"Class\": \"Fiveth\",\n",
    "  \"year\": 2020\n",
    "}\n",
    "print(type(Dtype))\n",
    "\n",
    "# set\n",
    "Dtype = {\"1\",\"3\",\"6\",\"8\"}\n",
    "print(type(Dtype))\n",
    "\n",
    "# frozenset \n",
    "Dtype = frozenset({\"1\",\"3\",\"6\",\"8\"})\n",
    "print(type(Dtype))\n",
    "# bool \n",
    "Dtype = 3>2\n",
    "print(type(Dtype))\n",
    "# bytes\n",
    "Dtype = b\"Python\"\n",
    "print(type(Dtype))\n"
   ]
  },
  {
   "cell_type": "markdown",
   "metadata": {},
   "source": [
    "# Create a Markdown cell in jupyter and list the steps discussed in the session #by Dr. Darshan  Ingle sir to create Github profile and upload Githubs #Assignment link.\n",
    "\n",
    "\n",
    "1) Login to GitHub with your gmail id\n",
    "2) Create a Repositary as \"LetsUpgrade AI-ML\"\n",
    "3) Save your Assignment in a folder\n",
    "4) Drag the folder to the \"LetsUpgrade AI-ML\" Repositary\n",
    "\n",
    "\n",
    "\n"
   ]
  }
 ],
 "metadata": {
  "kernelspec": {
   "display_name": "Python 3",
   "language": "python",
   "name": "python3"
  },
  "language_info": {
   "codemirror_mode": {
    "name": "ipython",
    "version": 3
   },
   "file_extension": ".py",
   "mimetype": "text/x-python",
   "name": "python",
   "nbconvert_exporter": "python",
   "pygments_lexer": "ipython3",
   "version": "3.7.6"
  }
 },
 "nbformat": 4,
 "nbformat_minor": 4
}
